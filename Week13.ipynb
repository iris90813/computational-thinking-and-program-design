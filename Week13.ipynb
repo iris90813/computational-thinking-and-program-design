{
  "nbformat": 4,
  "nbformat_minor": 0,
  "metadata": {
    "colab": {
      "name": "Untitled1.ipynb",
      "provenance": [],
      "collapsed_sections": [],
      "authorship_tag": "ABX9TyOBFsjMSguXq9cwXvEwLfLr",
      "include_colab_link": true
    },
    "kernelspec": {
      "name": "python3",
      "display_name": "Python 3"
    }
  },
  "cells": [
    {
      "cell_type": "markdown",
      "metadata": {
        "id": "view-in-github",
        "colab_type": "text"
      },
      "source": [
        "<a href=\"https://colab.research.google.com/github/iris90813/computational-thinking-and-program-design/blob/master/Week13.ipynb\" target=\"_parent\"><img src=\"https://colab.research.google.com/assets/colab-badge.svg\" alt=\"Open In Colab\"/></a>"
      ]
    },
    {
      "cell_type": "code",
      "metadata": {
        "id": "k8W9OeBsCM1b",
        "colab_type": "code",
        "outputId": "49f13768-d92b-4a84-91f2-646355e58728",
        "colab": {
          "base_uri": "https://localhost:8080/",
          "height": 89
        }
      },
      "source": [
        "score = int(input(\"請輸入成績\"))\n",
        "if score<60:\n",
        "  print(\"再加油一下啦～\")\n",
        "else:\n",
        "    print(\"很棒～繼續保持!\")\n",
        "    if score>=80:\n",
        "      print(\"你真的很棒欸～要好好保持!\")\n",
        "      print(\"還可以再努力一下!\")"
      ],
      "execution_count": 0,
      "outputs": [
        {
          "output_type": "stream",
          "text": [
            "請輸入成績100\n",
            "很棒～繼續保持!\n",
            "你真的很棒欸～要好好保持!\n",
            "還可以再努力一下!\n"
          ],
          "name": "stdout"
        }
      ]
    }
  ]
}