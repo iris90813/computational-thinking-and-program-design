{
  "nbformat": 4,
  "nbformat_minor": 0,
  "metadata": {
    "colab": {
      "name": "Week10",
      "provenance": [],
      "collapsed_sections": [],
      "authorship_tag": "ABX9TyPyh5Nbf8HBMMBGHdp+Pr9R",
      "include_colab_link": true
    },
    "kernelspec": {
      "name": "python3",
      "display_name": "Python 3"
    }
  },
  "cells": [
    {
      "cell_type": "markdown",
      "metadata": {
        "id": "view-in-github",
        "colab_type": "text"
      },
      "source": [
        "<a href=\"https://colab.research.google.com/github/iris90813/computational-thinking-and-program-design/blob/master/Week10.ipynb\" target=\"_parent\"><img src=\"https://colab.research.google.com/assets/colab-badge.svg\" alt=\"Open In Colab\"/></a>"
      ]
    },
    {
      "cell_type": "code",
      "metadata": {
        "id": "GYAJIqz-uAmr",
        "colab_type": "code",
        "colab": {
          "base_uri": "https://localhost:8080/",
          "height": 215
        },
        "outputId": "7e85f876-19cb-40ee-a408-92c289509686"
      },
      "source": [
        "#第四題\n",
        "上衣=int(input('請輸入上衣數量'))\n",
        "褲子=int(input('請輸入褲子數量'))\n",
        "背心=int(input('請輸入背心數量'))\n",
        "總金額=(上衣*300+褲子*350+背心*400)\n",
        "print('總金額為',總金額)\n",
        "\n",
        "#第五題\n",
        "a = int(input(\"你要買幾罐?\"))\n",
        "總金額 = (a//12 * 200) + (a%12 *20)\n",
        "print(\"總共\", 總金額, \"元\")\n",
        "\n",
        "#第六題\n",
        "第一次期中考=int(input('請輸入第一次期中考成績'))\n",
        "第二次期中考=int(input('請輸入第二次期中考成績'))\n",
        "期末考=int(input('請輸入期末考成績'))\n",
        "加總=(第一次期中考+第二次期中考+期末考)\n",
        "平均=((第一次期中考+第二次期中考+期末考)/3)\n",
        "print('分數加總為',加總)\n",
        "print('分數平均為',平均)\n"
      ],
      "execution_count": 1,
      "outputs": [
        {
          "output_type": "stream",
          "text": [
            "請輸入上衣數量3\n",
            "請輸入褲子數量3\n",
            "請輸入背心數量3\n",
            "總金額為 3150\n",
            "你要買幾罐?30\n",
            "總共 520 元\n",
            "請輸入第一次期中考成績89\n",
            "請輸入第二次期中考成績78\n",
            "請輸入期末考成績90\n",
            "分數加總為 257\n",
            "分數平均為 85.66666666666667\n"
          ],
          "name": "stdout"
        }
      ]
    }
  ]
}