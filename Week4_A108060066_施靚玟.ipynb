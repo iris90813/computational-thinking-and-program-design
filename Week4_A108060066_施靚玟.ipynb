{
  "nbformat": 4,
  "nbformat_minor": 0,
  "metadata": {
    "colab": {
      "name": "Week4-A108060066-施靚玟.ipynb",
      "provenance": [],
      "authorship_tag": "ABX9TyOGXfTY/KGneFE3XUdhZcjS",
      "include_colab_link": true
    },
    "kernelspec": {
      "name": "python3",
      "display_name": "Python 3"
    }
  },
  "cells": [
    {
      "cell_type": "markdown",
      "metadata": {
        "id": "view-in-github",
        "colab_type": "text"
      },
      "source": [
        "<a href=\"https://colab.research.google.com/github/iris90813/computational-thinking-and-program-design/blob/master/Week4_A108060066_%E6%96%BD%E9%9D%9A%E7%8E%9F.ipynb\" target=\"_parent\"><img src=\"https://colab.research.google.com/assets/colab-badge.svg\" alt=\"Open In Colab\"/></a>"
      ]
    },
    {
      "cell_type": "code",
      "metadata": {
        "id": "JLLHUxXYN9GM",
        "colab_type": "code",
        "outputId": "faaa78a4-a86b-456a-9237-7c0e7ebabeca",
        "colab": {
          "base_uri": "https://localhost:8080/",
          "height": 34
        }
      },
      "source": [
        "print (\"Hello World\")"
      ],
      "execution_count": 0,
      "outputs": [
        {
          "output_type": "stream",
          "text": [
            "Hello World\n"
          ],
          "name": "stdout"
        }
      ]
    }
  ]
}